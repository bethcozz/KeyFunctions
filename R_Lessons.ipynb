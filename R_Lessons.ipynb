{
 "cells": [
  {
   "cell_type": "code",
   "execution_count": null,
   "metadata": {},
   "outputs": [],
   "source": [
    "library(readr)\n",
    "#Read in data set\n",
    "nola <- read_csv(\"~/Desktop/code/nolabblistings.csv\")\n",
    "#Look at data\n",
    "print(nola)\n",
    "head(nola)\n",
    "describe(nola)\n",
    "\n",
    "#Scatterplot reviews x price\n",
    "plot(nola$reviews, nola$price,\n",
    "     main = \"number of reviews by price\",\n",
    "     xlab = \"number of reviews\",\n",
    "     ylab = \"price\",\n",
    "     col = \"grey\")"
   ]
  },
  {
   "cell_type": "code",
   "execution_count": null,
   "metadata": {},
   "outputs": [],
   "source": [
    "#Create subset of data w/ only focal vars\n",
    "keyvars <- c(\"price\", \"reviews\", \"overall_satisfaction\", \"bedrooms\", \"accommodates\", \"minstay\", \"room_type\")\n",
    "nolaTrim <- nola[keyvars]\n",
    "nolaTrim\n",
    "head(nolaTrim)\n",
    "describe(nolaTrim)"
   ]
  },
  {
   "cell_type": "code",
   "execution_count": null,
   "metadata": {},
   "outputs": [],
   "source": [
    "nomiss <- na.omit(nolaTrim)\n",
    "\n",
    "head(nomiss)\n",
    "describe(nomiss)\n",
    "\n",
    "#here we specify dataset separately instead of nola$ for all\n",
    "pairs(~price + overall_satisfaction + bedrooms + accommodates + reviews,\n",
    "      data = nomiss,\n",
    "      pch = 20,\n",
    "      main = \"simple scatterplot matrix\")\n",
    "#what this means: price x sat, then rooms, then accommodates, and each by each other"
   ]
  },
  {
   "cell_type": "code",
   "execution_count": null,
   "metadata": {},
   "outputs": [],
   "source": [
    "#Chi2\n",
    "\n",
    "library(MASS)\n",
    "rtsat <- table(nomiss$room_type, nomiss$overall_satisfaction)\n",
    "rtsat\n",
    "chisq.test(rtsat)\n",
    "#room type, satisfaction"
   ]
  },
  {
   "cell_type": "code",
   "execution_count": null,
   "metadata": {
    "collapsed": true
   },
   "outputs": [],
   "source": [
    "#Create dummies\n",
    "nomiss$entirehome <- ifelse(nomiss$room_type==\"Entire home/apt\", 1, 0)\n",
    "nomiss$pvtroom <- ifelse(nomiss$room_type==\"Private room\", 1, 0)\n",
    "nomiss$shared <- ifelse(nomiss$room_type==\"Shared room\", 1, 0)"
   ]
  },
  {
   "cell_type": "code",
   "execution_count": null,
   "metadata": {},
   "outputs": [],
   "source": [
    "#REGRESSION\n",
    "#Make sure DV is numeric this way:\n",
    "#is.factor(nomiss$price)\n",
    "#nomiss$price<-as.numeric(nomiss$price)\n",
    "\n",
    "#Equation/command:\n",
    "pricereg <-lm(price~reviews + overall_satisfaction + bedrooms + accommodates + minstay + pvtroom + shared, data=nomiss)\n",
    "summary(pricereg)"
   ]
  },
  {
   "cell_type": "code",
   "execution_count": null,
   "metadata": {},
   "outputs": [],
   "source": [
    "#How to recode variables - this case, from 1/2 to m/f\n",
    "my_data_frame$Sex[my_data_frame$Sex==1]<-\"Female\"\n",
    "my_data_frame$Sex[my_data_frame$Sex==2]<-\"Male\""
   ]
  },
  {
   "cell_type": "code",
   "execution_count": null,
   "metadata": {},
   "outputs": [],
   "source": [
    "#Crosstabs\n",
    "table(pewdata$race)\n",
    "#Now that we've made tables of each, we can run a crosstab:\n",
    "table(pewdata$partyln, pewdata$race)\n",
    "#Save it for later\n",
    "save(pewdata, file=\"Pew Data.Rdata\")\n",
    "\n",
    "#Average age by race\n",
    "aggregate(pewdata$age, by=list(pewdata$race), FUN=mean)\n",
    "#Average age by both race and party\n",
    "aggregate(pewdata$age, by=list(pewdata$race, pewdata$partyln), FUN=mean)\n",
    "#Save this column as a table\n",
    "age_by_race<-aggregate(pewdata$age, by=list(pewdata$race), FUN=mean)\n",
    "age_by_race"
   ]
  },
  {
   "cell_type": "code",
   "execution_count": null,
   "metadata": {},
   "outputs": [],
   "source": [
    "#MERGING DATA\n",
    "#can do it in base R, but plyr is better\n",
    "\n",
    "install.packages(\"plyr\")\n",
    "library(plyr)\n",
    "\n",
    "#The command for merging datasets is called \"join\"\n",
    "merged_data<-join(age_by_race, race_income_data)\n",
    "#*just like sql\n",
    "merged_data\n",
    "#it didn't work tho (N/As)\n",
    "\n",
    "colnames(age_by_race)\n",
    "colnames(race_income_data)\n",
    "#the problem is that in age_by_race, we don't call it race - called Group.1\n",
    "colnames(age_by_race)[colnames(age_by_race)==\"Group.1\"]<-\"race\"\n",
    "age_by_race\n",
    "\n",
    "merged_data<-join(age_by_race, race_income_data)\n",
    "#Okay, it merged - but only has income value for whites"
   ]
  },
  {
   "cell_type": "code",
   "execution_count": null,
   "metadata": {
    "collapsed": true
   },
   "outputs": [],
   "source": []
  }
 ],
 "metadata": {
  "kernelspec": {
   "display_name": "R",
   "language": "R",
   "name": "ir"
  },
  "language_info": {
   "codemirror_mode": "r",
   "file_extension": ".r",
   "mimetype": "text/x-r-source",
   "name": "R",
   "pygments_lexer": "r",
   "version": "3.4.2"
  }
 },
 "nbformat": 4,
 "nbformat_minor": 2
}
