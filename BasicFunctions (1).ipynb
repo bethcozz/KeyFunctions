{
 "cells": [
  {
   "cell_type": "code",
   "execution_count": null,
   "metadata": {},
   "outputs": [],
   "source": [
    "import numpy as np\n",
    "import pandas as pd\n",
    "import matplotlib.pyplot as plt\n",
    "import seaborn as sb\n",
    "%matplotlib inline\n",
    "from pandas import read_csv\n",
    "from pandas import datetime\n",
    "from pandas.plotting import autocorrelation_plot"
   ]
  },
  {
   "cell_type": "code",
   "execution_count": null,
   "metadata": {},
   "outputs": [],
   "source": [
    "#Importing data\n",
    "address = '//prc-cs-f9dkb42/ecozzolino$/Desktop/code/toyindeed.csv'\n",
    "df = pd.read_csv(address)\n",
    "df.head(10)"
   ]
  },
  {
   "cell_type": "code",
   "execution_count": null,
   "metadata": {
    "collapsed": true
   },
   "outputs": [],
   "source": [
    "#Missing data\n",
    "indeed.isnull().any()\n",
    "\n",
    "#Fill with 0\n",
    "indeed['anyfirstrev']=indeed['first_revenue_date'].fillna(0)\n",
    "indeed['anyfirstrev'].head(20)"
   ]
  },
  {
   "cell_type": "code",
   "execution_count": null,
   "metadata": {
    "collapsed": true
   },
   "outputs": [],
   "source": [
    "#Create new var\n",
    "indeed['anyfirstrev'] = np.where(indeed['anyfirstrev']!=0, 1, 0)\n",
    "indeed.head(10)"
   ]
  },
  {
   "cell_type": "code",
   "execution_count": null,
   "metadata": {},
   "outputs": [],
   "source": [
    "#Create new var from string\n",
    "bank_trim['car'] = bank_trim['Category'].str.contains('(Auto)|(Gas)|(Parking)|(Service & Parts)').astype(int)\n",
    "bank_trim['food'] = bank_trim['Category'].str.contains('(Food)|(Restaurants)|(Groceries)').astype(int)\n",
    "bank_trim['edu'] = bank_trim['Category'].str.contains('(Education)|(Tuition)').astype(int)\n",
    "bank_trim['drinks'] = bank_trim['Category'].str.contains('(Alcohol)|(Coffee)').astype(int)\n",
    "bank_trim['fees'] = bank_trim['Category'].str.contains('(Fee)|(Shipping)').astype(int)\n",
    "bank_trim['ent'] = bank_trim['Category'].str.contains('(Entertainment)|(Amusement)|(Arts)|(Books)|(Electronics)|(Hobbies)|(Movies)|(Music|(Newspapers)|(Toys))').astype(int)\n",
    "bank_trim['financial'] = bank_trim['Category'].str.contains('(Financial)|(Cash)|(Investment)|(Transfer)').astype(int)\n",
    "bank_trim['health'] = bank_trim['Category'].str.contains('(Doctor)|(Dentist)|(Eyecare)|(Gym)|(Health)|(Pharmacy)|(Sport)').astype(int)\n",
    "bank_trim['home'] = bank_trim['Category'].str.contains('(Home)|(Furnishing)|(Internet)|(Laundry)|(Office)|(Utilit)|(Check)|(Rent)').astype(int)\n",
    "bank_trim['income'] = bank_trim['Category'].str.contains('(Income)|(Paycheck)').astype(int)\n",
    "bank_trim['maint'] = bank_trim['Category'].str.contains('(Hair)|(Personal Care)|(Massage)|(Clothing)|(Shopping)').astype(int)\n",
    "bank_trim['travel'] = bank_trim['Category'].str.contains('(Travel)|(Hotel)|(Taxi)').astype(int)\n",
    "bank_trim['misc'] = bank_trim['Category'].str.contains('(Business)|(Charity)|(Kids)|(Legal)|(Unassigned)').astype(int)\n",
    "bank_trim['gift'] = bank_trim['Category'].str.contains('(Gift)').astype(int)\n",
    "bank_trim['tax'] = bank_trim['Category'].str.contains('(Tax)').astype(int)"
   ]
  },
  {
   "cell_type": "code",
   "execution_count": null,
   "metadata": {
    "collapsed": true
   },
   "outputs": [],
   "source": [
    "#Combine into categorical var\n",
    "bank_trim['cat2'] = '0'\n",
    "bank_trim['cat2'].loc[(bank_trim['car']==1)] = 'car'\n",
    "bank_trim['cat2'].loc[(bank_trim['food']==1)] = 'food'\n",
    "bank_trim['cat2'].loc[(bank_trim['edu']==1)] = 'edu'\n",
    "bank_trim['cat2'].loc[(bank_trim['drinks']==1)] = 'drinks'\n",
    "bank_trim['cat2'].loc[(bank_trim['fees']==1)] = 'fees'\n",
    "bank_trim['cat2'].loc[(bank_trim['ent']==1)] = 'ent'\n",
    "bank_trim['cat2'].loc[(bank_trim['financial']==1)] = 'financial'\n",
    "bank_trim['cat2'].loc[(bank_trim['health']==1)] = 'health'\n",
    "bank_trim['cat2'].loc[(bank_trim['home']==1)] = 'home'\n",
    "bank_trim['cat2'].loc[(bank_trim['income']==1)] = 'income'\n",
    "bank_trim['cat2'].loc[(bank_trim['maint']==1)] = 'maint'\n",
    "bank_trim['cat2'].loc[(bank_trim['travel']==1)] = 'travel'\n",
    "bank_trim['cat2'].loc[(bank_trim['misc']==1)] = 'misc'\n",
    "bank_trim['cat2'].loc[(bank_trim['gift']==1)] = 'gift'\n",
    "bank_trim['cat2'].loc[(bank_trim['tax']==1)] = 'tax'"
   ]
  },
  {
   "cell_type": "code",
   "execution_count": null,
   "metadata": {
    "collapsed": true
   },
   "outputs": [],
   "source": [
    "#Turn categorical var into dummies\n",
    "nola_bin = pd.get_dummies(nola_nomiss['room_type'])"
   ]
  },
  {
   "cell_type": "code",
   "execution_count": null,
   "metadata": {
    "collapsed": true
   },
   "outputs": [],
   "source": []
  },
  {
   "cell_type": "code",
   "execution_count": null,
   "metadata": {
    "collapsed": true
   },
   "outputs": [],
   "source": []
  },
  {
   "cell_type": "code",
   "execution_count": null,
   "metadata": {
    "collapsed": true
   },
   "outputs": [],
   "source": [
    "#R Correlation\n",
    "pearsonr_coefficient, p_value = pearsonr(indeed.age, indeed.revenue2)\n",
    "print('PearsonR Correlation Coefficient %0.3f' % (pearsonr_coefficient))"
   ]
  },
  {
   "cell_type": "code",
   "execution_count": null,
   "metadata": {
    "collapsed": true
   },
   "outputs": [],
   "source": [
    "#Chi2\n",
    "table = pd.crosstab(indeed.assigned, indeed.revenue)\n",
    "chi2, p, dof, expected = chi2_contingency(table.values)\n",
    "print('Chi-square Statistic %0.3f p_value %0.3f' % (chi2, p))"
   ]
  },
  {
   "cell_type": "code",
   "execution_count": null,
   "metadata": {
    "collapsed": true
   },
   "outputs": [],
   "source": [
    "#DATA VIZ\n",
    "#Scatterplot\n",
    "%matplotlib inline \n",
    "indeed.plot(kind='scatter', x='age', y='revenue', c=['darkgray'], s=20)\n",
    "plt.xlabel('Age of Account')\n",
    "plt.ylabel('Revenue') \n",
    "plt.title('Relationship Between Account Age and Revenue')\n",
    "plt.show()"
   ]
  },
  {
   "cell_type": "code",
   "execution_count": null,
   "metadata": {},
   "outputs": [],
   "source": [
    "#Box plots\n",
    "for name, group in groups:\n",
    "    years[name.year] = group.values\n",
    "years.boxplot()\n",
    "plt.show()"
   ]
  },
  {
   "cell_type": "code",
   "execution_count": null,
   "metadata": {},
   "outputs": [],
   "source": [
    "#Correlation heat map\n",
    "X = indeed_trim\n",
    "corr = X.corr()\n",
    "corr\n",
    "sb.heatmap(corr,xticklabels=corr.columns.values, yticklabels=corr.columns.values)\n",
    "plt.show()"
   ]
  },
  {
   "cell_type": "code",
   "execution_count": null,
   "metadata": {},
   "outputs": [],
   "source": [
    "#Pair plot\n",
    "X = nola_nomiss[['reviews', 'price', 'overall_satisfaction', 'bedrooms', 'accommodates', 'minstay', 'room_type']]\n",
    "sb.pairplot(X)\n",
    "plt.show()"
   ]
  },
  {
   "cell_type": "code",
   "execution_count": null,
   "metadata": {},
   "outputs": [],
   "source": [
    "#Bar graphs\n",
    "#before plot, need to create array objects for python to chart\n",
    "x = range(1,10)\n",
    "y = [1,2,3,4,0,4,3,2,1]\n",
    "\n",
    "plt.plot(x, y)\n",
    "\n",
    "plt.bar(x, y)\n",
    "#uses same data as line grap above\n",
    "\n",
    "mpg.plot(kind='bar')\n",
    "#make bar chart using pandas data\n",
    "\n",
    "mpg.plot(kind='barh')\n",
    "#make horizontal bar chart using pandas data\n",
    "#double or single quotes both work"
   ]
  },
  {
   "cell_type": "code",
   "execution_count": null,
   "metadata": {},
   "outputs": [],
   "source": [
    "#Pie chart\n",
    "z = [1 , 2, 3, 4, 0.5]\n",
    "veh_type = ['bicycle', 'motorbike','car', 'van', 'stroller']\n",
    "#need a label for each element in the pie chart\n",
    "#write as a list\n",
    "plt.pie(z, labels= veh_type)\n",
    "#plot z, with labels as we defined in object 'veh_type'\n",
    "plt.show()\n",
    "#show me this graph"
   ]
  },
  {
   "cell_type": "code",
   "execution_count": null,
   "metadata": {
    "collapsed": true
   },
   "outputs": [],
   "source": []
  },
  {
   "cell_type": "code",
   "execution_count": null,
   "metadata": {},
   "outputs": [],
   "source": [
    "#Regression\n",
    "y = indeed_trim.revenue2\n",
    "X = indeed_trim.drop(['revenue2'], axis=1)\n",
    "\n",
    "results = sm.OLS(y, X).fit()\n",
    "results.summary()"
   ]
  },
  {
   "cell_type": "code",
   "execution_count": null,
   "metadata": {},
   "outputs": [],
   "source": [
    "#Logistic regression\n",
    "indeed_trim = indeed[['assigned', 'age', 'assign_days', 'anyrev', 'anyfirstrev']]\n",
    "\n",
    "y = indeed_trim.anyrev\n",
    "X = indeed_trim.drop(['anyrev'], axis=1)\n",
    "\n",
    "logit = sm.Logit(y, X)\n",
    "result = logit.fit()\n",
    "print(result.summary())\n",
    "print(np.exp(result.params))"
   ]
  },
  {
   "cell_type": "code",
   "execution_count": null,
   "metadata": {
    "collapsed": true
   },
   "outputs": [],
   "source": [
    "#JOIN data frames\n",
    "# DataFrame.join(left_object, right_object)\n",
    "# ( WHAT THIS DOES )\n",
    "# You can use .join() method two join two data sources into one. The .join() method works by joining \n",
    "# the two sources on their row index values.\n",
    "variable_added = DataFrame.join(DF_obj, series_obj)\n",
    "variable_added\n",
    "#this just adds another variable/column to it\n",
    "\n",
    "#append = add rows to the bottom of a table\n",
    "added_datatable = variable_added.append(variable_added, ignore_index=False)\n",
    "added_datatable\n",
    "#created a second copy of the original table\n",
    "# ignore index - don't want pandas to reindex the data table\n",
    "# better to reindex it tho\n",
    "\n",
    "added_datatable = variable_added.append(variable_added, ignore_index=True)\n",
    "added_datatable\n",
    "#this gives new index = new number for each row \n",
    "# i.e., goes on to 6, 7, 8, etc. instead of repeating 1,2,3,4,5, after getting to 5\n",
    "\n",
    "# object_name.sort_values(by=[index value], ascending=[False])\n",
    "# ( WHAT THIS DOES )\n",
    "# To sort rows in a DataFrame, either in ascending or descending order, call the .sort_values() \n",
    "# method off of the DataFrame, and pass in the by argument to specify the column index upon which \n",
    "# the DataFrame should be sorted.\n",
    "DF_sorted = DF_obj.sort_values(by=[5], ascending=[False])\n",
    "DF_sorted"
   ]
  },
  {
   "cell_type": "code",
   "execution_count": null,
   "metadata": {},
   "outputs": [],
   "source": [
    "#TIME SERIES\n",
    "df.info()\n",
    "df.activitydate = pd.to_datetime(df.activitydate)\n",
    "df.set_index('activitydate', inplace=True)"
   ]
  },
  {
   "cell_type": "code",
   "execution_count": null,
   "metadata": {},
   "outputs": [],
   "source": [
    "df.plot()\n",
    "plt.show()"
   ]
  },
  {
   "cell_type": "code",
   "execution_count": null,
   "metadata": {},
   "outputs": [],
   "source": [
    "#3-day rolling average\n",
    "revenue = df[['revenue']]\n",
    "revenue.rolling(3).mean().plot()"
   ]
  },
  {
   "cell_type": "code",
   "execution_count": null,
   "metadata": {},
   "outputs": [],
   "source": [
    "#GroupBy\n",
    "df.groupby('salesrep').describe()"
   ]
  },
  {
   "cell_type": "code",
   "execution_count": null,
   "metadata": {},
   "outputs": [],
   "source": [
    "df.groupby('salesrep').mean()\n",
    "df.head()"
   ]
  },
  {
   "cell_type": "code",
   "execution_count": null,
   "metadata": {
    "collapsed": true
   },
   "outputs": [],
   "source": [
    "#Fill in with previous values\n",
    "df['salesrep'].replace(1, np.nan, inplace=True)"
   ]
  },
  {
   "cell_type": "code",
   "execution_count": null,
   "metadata": {},
   "outputs": [],
   "source": [
    "df.head(5)"
   ]
  },
  {
   "cell_type": "code",
   "execution_count": null,
   "metadata": {
    "collapsed": true
   },
   "outputs": [],
   "source": [
    "df['rep2']=df['salesrep']"
   ]
  },
  {
   "cell_type": "code",
   "execution_count": null,
   "metadata": {
    "collapsed": true
   },
   "outputs": [],
   "source": [
    "grouped = df.groupby('advertiser')\n",
    "grouped.mean()"
   ]
  },
  {
   "cell_type": "code",
   "execution_count": null,
   "metadata": {},
   "outputs": [],
   "source": [
    "#Time series: test for non-stationarity\n",
    "#More precise ways of checking:\n",
    "    #1. plotting rolling statistics\n",
    "    #2. dickey-fuller test: stat test for checking stationarity\n",
    "        #h0: TS is non-stationary\n",
    "        \n",
    "from statsmodels.tsa.stattools import adfuller\n",
    "def test_stationarity(timeseries):\n",
    "    #Determine rolling statistics\n",
    "    #rolmean = pd.Series.rolling(window=12,center=False).mean() \n",
    "    rolmean = pd.rolling_mean(timeseries, window=12)\n",
    "    #**take rolling mean for last year**\n",
    "    #rolstd = pd.Series.rolling(window=12, center=False).std() \n",
    "    rolstd = pd.rolling_std(timeseries, window=12)\n",
    "    #Plot rolling statistics\n",
    "    orig = plt.plot(timeseries, color='blue', label='Original')\n",
    "    mean = plt.plot(rolmean, color='red', label='Rolling Mean')\n",
    "    std = plt.plot(rolstd, color='black', label='Rolling Std')\n",
    "    plt.legend(loc='best')\n",
    "    plt.title('Rolling Mean and Standard Dev')\n",
    "    plt.show()\n",
    "    #Perform dickey fuller test:\n",
    "    print('Results of dickey fuller test: ')\n",
    "    dftest = adfuller(timeseries, autolag='AIC')\n",
    "    dfoutput = pd.Series(dftest[0:4], index=['Test statistic', 'p-value', '#lags used', '# obvs used'])\n",
    "    for key, value in dftest[4].items():\n",
    "        dfoutput['Critical value (%s)' %key] = value\n",
    "    print(dfoutput)\n",
    "    \n",
    "test_stationarity(ts)"
   ]
  },
  {
   "cell_type": "code",
   "execution_count": null,
   "metadata": {
    "collapsed": true
   },
   "outputs": [],
   "source": []
  }
 ],
 "metadata": {
  "kernelspec": {
   "display_name": "Python 3",
   "language": "python",
   "name": "python3"
  },
  "language_info": {
   "codemirror_mode": {
    "name": "ipython",
    "version": 3
   },
   "file_extension": ".py",
   "mimetype": "text/x-python",
   "name": "python",
   "nbconvert_exporter": "python",
   "pygments_lexer": "ipython3",
   "version": "3.6.3"
  }
 },
 "nbformat": 4,
 "nbformat_minor": 2
}
